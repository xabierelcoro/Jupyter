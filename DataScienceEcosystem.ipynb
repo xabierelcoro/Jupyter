{
 "cells": [
  {
   "cell_type": "code",
   "execution_count": null,
   "id": "86c4bfad-7200-4aea-be6b-afc0d1c025da",
   "metadata": {},
   "outputs": [],
   "source": [
    "# DataScienceEcosystem.ipynb\n"
   ]
  },
  {
   "cell_type": "markdown",
   "id": "dfa05e42-7daf-4c4b-85fd-ba207b7f3cec",
   "metadata": {},
   "source": [
    "\n"
   ]
  },
  {
   "cell_type": "markdown",
   "id": "7c595f5b-b8a1-4393-aabb-ae3ce3d7db36",
   "metadata": {},
   "source": [
    "# Data Science Tools and Ecosystem"
   ]
  },
  {
   "cell_type": "markdown",
   "id": "5e170bc7-e730-4e7f-81af-eb2f85f8216c",
   "metadata": {},
   "source": [
    "# Data Science Tools and Ecosystem"
   ]
  },
  {
   "cell_type": "markdown",
   "id": "abedf6fc-a23e-4cb3-9ba9-2305ad912ecb",
   "metadata": {},
   "source": [
    "In this notebook, Data Science Tools and Ecosystem are summarized."
   ]
  },
  {
   "cell_type": "markdown",
   "id": "bb18f53c-82a3-4bfb-82d4-fe9d5ff51fae",
   "metadata": {},
   "source": [
    "In this notebook, Data Science Tools and Ecosystem are summarized."
   ]
  },
  {
   "cell_type": "markdown",
   "id": "bcd1621f-5055-4028-8154-20f70fd3fbd5",
   "metadata": {},
   "source": [
    "\n",
    "# Objectives\n",
    "\n",
    "**Objectives:**\n",
    "\n",
    "- List popular languages for Data Science\n",
    "- Identify commonly used libraries in Data Science\n",
    "- Explore tools within the Data Science ecosystem\n",
    "- Evaluate arithmetic expressions in Python\n",
    "- Convert minutes to hours using Python code\n"
   ]
  },
  {
   "cell_type": "markdown",
   "id": "1990b807-dc1d-4a8e-8261-557d0f636513",
   "metadata": {},
   "source": [
    "\n",
    "# Objectives\n",
    "\n",
    "**Objectives:**\n",
    "\n",
    "- List popular languages for Data Science\n",
    "- Identify commonly used libraries in Data Science\n",
    "- Explore tools within the Data Science ecosystem\n",
    "- Evaluate arithmetic expressions in Python\n",
    "- Convert minutes to hours using Python code\n"
   ]
  },
  {
   "cell_type": "markdown",
   "id": "fe52e9c6-4ff7-4e00-a3a1-6bb36a676485",
   "metadata": {},
   "source": [
    "Some of the popular languages that Data Scientists use are:\n",
    "\n",
    "1. Python\n",
    "2. R\n",
    "3. SQL\n",
    "4. Julia\n",
    "5. Scala"
   ]
  },
  {
   "cell_type": "markdown",
   "id": "db151513-1d73-46fb-8ff6-752afd90abcf",
   "metadata": {},
   "source": [
    "Some of the popular languages that Data Scientists use are:\n",
    "\n",
    "1. Python\n",
    "2. R\n",
    "3. SQL\n",
    "4. Julia\n",
    "5. Scala"
   ]
  },
  {
   "cell_type": "markdown",
   "id": "3b83cfa2-aa23-45fc-8f78-c43d5a2fb15f",
   "metadata": {},
   "source": [
    "Some of the commonly used libraries used by Data Scientists include:\n",
    "1. NumPy\n",
    "2. Pandas\n",
    "3. Matplotlib\n",
    "4. Scikit-learn\n",
    "5. TensorFlow"
   ]
  },
  {
   "cell_type": "markdown",
   "id": "d7af5b17-0a36-4235-98e6-e3bb92719a59",
   "metadata": {},
   "source": [
    "Some of the commonly used libraries used by Data Scientists include:\n",
    "1. NumPy\n",
    "2. Pandas\n",
    "3. Matplotlib\n",
    "4. Scikit-learn\n",
    "5. TensorFlow"
   ]
  },
  {
   "cell_type": "markdown",
   "id": "4314ccac-c5ba-473f-97ea-08285a88c757",
   "metadata": {},
   "source": [
    "\n",
    "| Data Science Tools       |\n",
    "|--------------------------|\n",
    "| Jupyter Notebook         |\n",
    "| RStudio                  |\n",
    "| Apache Zeppelin          |\n"
   ]
  },
  {
   "cell_type": "markdown",
   "id": "bffa6f34-d606-45c7-acd3-c6ea2e700cca",
   "metadata": {},
   "source": [
    "\n",
    "| Data Science Tools       |\n",
    "|--------------------------|\n",
    "| Jupyter Notebook         |\n",
    "| RStudio                  |\n",
    "| Apache Zeppelin          |\n"
   ]
  },
  {
   "cell_type": "markdown",
   "id": "585e8e0c-49da-4111-9c60-58608a8bef8d",
   "metadata": {},
   "source": [
    "## Arithmetic Expression Examples\n",
    "\n",
    "### Below are a few examples of evaluating arithmetic expressions in Python.\n"
   ]
  },
  {
   "cell_type": "markdown",
   "id": "86f3f9d9-5d44-4485-9d84-26beee967f58",
   "metadata": {},
   "source": [
    "## Arithmetic Expression Examples\n",
    "\n",
    "### Below are a few examples of evaluating arithmetic expressions in Python.\n"
   ]
  },
  {
   "cell_type": "code",
   "execution_count": 1,
   "id": "3de483ca-43dc-4054-b1b5-ca012842afad",
   "metadata": {},
   "outputs": [
    {
     "name": "stdout",
     "output_type": "stream",
     "text": [
      "17\n"
     ]
    }
   ],
   "source": [
    "# Arithmetic expression to multiply and add integers.\n",
    "# This a simple arithmetic expression to mutiply then add integers\n",
    "result = (3 * 4) + 5\n",
    "print(result)  # Expected output: 17"
   ]
  },
  {
   "cell_type": "code",
   "execution_count": 2,
   "id": "875bcf6b-7edc-46a1-88b4-aa8c3f8a929a",
   "metadata": {},
   "outputs": [
    {
     "name": "stdout",
     "output_type": "stream",
     "text": [
      "3.3333333333333335\n"
     ]
    }
   ],
   "source": [
    "# This will convert 200 minutes to hours by dividing by 60.\n",
    "minutes = 200\n",
    "hours = minutes / 60\n",
    "print(hours)  # Expected output: 3.3333333333333335"
   ]
  },
  {
   "cell_type": "markdown",
   "id": "6734085c-a6d1-4a9e-91d5-14fc518d12c5",
   "metadata": {},
   "source": [
    "## Author\n",
    "\n",
    "**Author**\n",
    "\n",
    "Xabier Elcoroaristizabal"
   ]
  },
  {
   "cell_type": "markdown",
   "id": "9e5cb6e7-7920-4402-a5d4-f7516883bfe9",
   "metadata": {},
   "source": [
    "## Author\n",
    "\n",
    "Xabier Elcoroaristizabal Martin"
   ]
  },
  {
   "cell_type": "markdown",
   "id": "239ede49-5c6f-477d-96e9-40ce74c6f081",
   "metadata": {},
   "source": [
    "## Author\n",
    "\n",
    "Xabier Elcoroaristizabal Martin"
   ]
  }
 ],
 "metadata": {
  "kernelspec": {
   "display_name": "Python 3 (ipykernel)",
   "language": "python",
   "name": "python3"
  },
  "language_info": {
   "codemirror_mode": {
    "name": "ipython",
    "version": 3
   },
   "file_extension": ".py",
   "mimetype": "text/x-python",
   "name": "python",
   "nbconvert_exporter": "python",
   "pygments_lexer": "ipython3",
   "version": "3.12.4"
  }
 },
 "nbformat": 4,
 "nbformat_minor": 5
}
